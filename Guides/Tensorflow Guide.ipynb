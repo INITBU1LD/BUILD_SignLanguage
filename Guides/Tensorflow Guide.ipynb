{
  "nbformat": 4,
  "nbformat_minor": 0,
  "metadata": {
    "colab": {
      "provenance": [],
      "toc_visible": true
    },
    "kernelspec": {
      "name": "python3",
      "display_name": "Python 3"
    },
    "language_info": {
      "name": "python"
    }
  },
  "cells": [
    {
      "cell_type": "markdown",
      "source": [
        "# **TensorFlow Guide**\n",
        "\n",
        "**Author: James Bustos**\n",
        "\n",
        "**Sources used**:\n",
        "- [TensorFlow Guide](https://github.com/tensorflow/docs/blob/master/site/en/tutorials/quickstart/beginner.ipynb)\n",
        "\n"
      ],
      "metadata": {
        "id": "9ty_isQP0VpJ"
      }
    },
    {
      "cell_type": "markdown",
      "source": [
        "## **Introduction to TensorFlow**\n",
        "\n",
        "* **What is TensorFlow?**\n",
        "  * TensorFlow is a powerful open-source software library for machine learning developed by Google. It's used for a wide range of tasks but has a particular focus on training and inference of deep neural networks.\n",
        "* **Applications in Image and Video Processing**\n",
        "  * TensorFlow excels in handling image and video data, making it an excellent choice for projects involving object detection, image classification, and even generative models. These capabilities are critical for developing systems that can \"see\" and interpret the world around them.\n",
        "* **Significance for Sign Language Recognition**\n",
        "  * For sign language recognition, TensorFlow's ability to process and learn from video and image data can be leveraged to train models that accurately recognize sign language gestures."
      ],
      "metadata": {
        "id": "RdsSObNvMB4L"
      }
    },
    {
      "cell_type": "markdown",
      "source": [
        "## **Set up Tensorflow**\n",
        "\n",
        "\n"
      ],
      "metadata": {
        "id": "-c23Rw4O11TC"
      }
    },
    {
      "cell_type": "markdown",
      "source": [
        "If you are in your own development environment you would typically install Tensorflow using `pip install`, however, TensorFlow comes installed by default on colab, so we can skip this step."
      ],
      "metadata": {
        "id": "zI7QFMKBvmAX"
      }
    },
    {
      "cell_type": "code",
      "execution_count": null,
      "metadata": {
        "id": "SUYNLFI9z70t"
      },
      "outputs": [],
      "source": [
        "# !pip install tensorflow – Not needed for colab since it comes by default"
      ]
    },
    {
      "cell_type": "markdown",
      "source": [
        "To get started with TensorFlow we must first import it into our script"
      ],
      "metadata": {
        "id": "Vwj-f3UUv2oY"
      }
    },
    {
      "cell_type": "code",
      "source": [
        "import tensorflow as tf\n",
        "print(\"Tensorflow version: \", tf.__version__)"
      ],
      "metadata": {
        "colab": {
          "base_uri": "https://localhost:8080/"
        },
        "id": "aSVcYcUDvaLl",
        "outputId": "cc82519d-4ce5-43f6-9964-022c6302bff7"
      },
      "execution_count": null,
      "outputs": [
        {
          "output_type": "stream",
          "name": "stdout",
          "text": [
            "Tensorflow version:  2.15.0\n"
          ]
        }
      ]
    },
    {
      "cell_type": "markdown",
      "source": [
        "## **Load a dataset**"
      ],
      "metadata": {
        "id": "2r5QANL4wVlj"
      }
    },
    {
      "cell_type": "markdown",
      "source": [
        "Let's begin by loading a prebuilt dataset. Keras, a high-level neural network API within TensorFlow, facilitates the development and training of deep learning models. It also provides a collection of easily accessible benchmark datasets. For this guide, we will utilize the MNIST dataset, known for its use in handwritten digit recognition tasks. This example will demonstrate how straightforward it is to get started with deep learning projects using TensorFlow and Keras.\n",
        "\n",
        "![mnist](https://upload.wikimedia.org/wikipedia/commons/f/f7/MnistExamplesModified.png)\n"
      ],
      "metadata": {
        "id": "2wHk8xXMweoQ"
      }
    },
    {
      "cell_type": "markdown",
      "source": [
        "## **Preparing the MNIST Dataset**\n",
        "\n",
        "The MNIST dataset, containing 60,000 training images and 10,000 testing images of handwritten digits, is key for learning image processing. Each 28x28 pixel image is grayscale, representing digits from 0 to 9. To use this dataset in TensorFlow:\n",
        "\n",
        "1. **Load the Dataset:**\\\n",
        "First, we load the dataset into our project using:\n",
        "```\n",
        "mnist = tf.keras.datasets.mnist\n",
        "(train_images, train_labels), (test_images, test_labels) = mnist.load_data()\n",
        "```\n",
        "This line loads the dataset and performs a train-test split, a critical practice to prevent overfitting and ensure model generalization. The train-test split divides the dataset into two parts: one for training the model to learn patterns and the other for testing to evaluate how well it generalizes to unseen data. Each image in the dataset comes with its own label, indicating the digit it represents, which is crucial for supervised learning tasks where the model learns to associate images with their corresponding labels.\n",
        "\n",
        "1. **Normalize the Data:**\\\n",
        "The pixel values range from 0 to 255. For optimal neural network performance, we scale these values to a range of 0 to 1 by dividing by 255.0. This normalization step converts the samples from integers to floating-point numbers, facilitating the training process due to smaller, standardized inputs.\n",
        "```\n",
        "train_images, test_images = train_images / 255.0, test_images / 255.0\n",
        "```\n",
        "\n",
        "By following these steps, we've successfully loaded and prepraed our dataset for training a neural netowrk model. This process ensures the model learns efficiently from normalized data, enhancing its ability to recognize and classify unseen handwritten digits accurately."
      ],
      "metadata": {
        "id": "v4dioMYhyhI3"
      }
    },
    {
      "cell_type": "code",
      "source": [
        "# Prepare data for use\n",
        "mnist = tf.keras.datasets.mnist\n",
        "\n",
        "# Load data into memory\n",
        "(train_images, train_labels), (test_images, test_labels) = mnist.load_data()\n",
        "\n",
        "# Train-test split\n",
        "train_images, test_images = train_images / 255.0, test_images / 255.0"
      ],
      "metadata": {
        "id": "oNkkU9lyycdw",
        "colab": {
          "base_uri": "https://localhost:8080/"
        },
        "outputId": "32f4e437-6976-40ba-ee01-f33fb8dc4c83"
      },
      "execution_count": null,
      "outputs": [
        {
          "output_type": "stream",
          "name": "stdout",
          "text": [
            "Downloading data from https://storage.googleapis.com/tensorflow/tf-keras-datasets/mnist.npz\n",
            "11490434/11490434 [==============================] - 0s 0us/step\n"
          ]
        }
      ]
    },
    {
      "cell_type": "markdown",
      "source": [
        "## **Visualizing the MNIST Dataset**\n",
        "\n",
        "To better understand our data, let's visualize one of the images from the training set along with its corresponding label. This will give us a clearer picture of what our model is learning from."
      ],
      "metadata": {
        "id": "USd95QQ9AWoX"
      }
    },
    {
      "cell_type": "code",
      "source": [
        "import matplotlib.pyplot as plt\n",
        "\n",
        "# Display the first image in the training set\n",
        "plt.imshow(train_images[0], cmap='gray')\n",
        "plt.title(f'Label: {train_labels[0]}')\n",
        "plt.show()\n"
      ],
      "metadata": {
        "colab": {
          "base_uri": "https://localhost:8080/",
          "height": 452
        },
        "id": "MPy3M_b9AcCw",
        "outputId": "1bc2f085-da33-4014-9749-a30b64f49b31"
      },
      "execution_count": null,
      "outputs": [
        {
          "output_type": "display_data",
          "data": {
            "text/plain": [
              "<Figure size 640x480 with 1 Axes>"
            ],
            "image/png": "[encoded data removed]"
          },
          "metadata": {}
        }
      ]
    },
    {
      "cell_type": "markdown",
      "source": [
        "## **Build a machine learning model**\n",
        "\n",
        "Building a machine learning model with TensorFlow and Keras involves defining the model's architecture and specifying how it should learn from the data. Here's a step-by-step explanation:\n",
        "\n",
        "1. **Sequential Model:**\n",
        "```\n",
        "model = tf.keras.models.Sequential([\n",
        "```\n",
        "A `Sequential` model in Keras is a linear stack of layers, forming the simplest type of model for processing data. Here, data flows through layers in a straightforward sequence, without looping back. In this model, each layer receives an input tensor from the previous layer, performs operations, and produces an output tensor for the next layer. This way, the model transforms the input data step-by-step until it reaches the final output layer.\n",
        "\n",
        "  A **tensor** is essentially a container for data (numerical data), it's a generalization of scalars, vectors, and matrices to potentially higher dimensions.\n",
        "\n",
        "1. **Flatten Layer:**\n",
        "```\n",
        "tf.keras.layers.Flatten(input_shape=(28, 28)),\n",
        "```\n",
        "The first layer in your model is a `Flatten` layer, which transforms the format of the images from a two-dimensional array (of 28 by 28 pixels) to a one-dimensional array (of 28 * 28 = 784 pixels). Think of this layer as unstacking rows of pixels in the image and lining them up. This layer has no parameters to learn; it only reformats the data. The `input_shape` argument specifies the shape of the input data which, in this case, is a 28x28 pixel image.\n",
        "\n",
        "1. **Dense Layer with ReLU Activation:**\n",
        "```\n",
        "tf.keras.layers.Dense(128, activation='relu'),\n",
        "```\n",
        "After flattening the pixel values, the network consists of a sequence of two `Dense` layers. These are densely connected, or fully connected, neural layers. The first `Dense` layer has 128 nodes (or neurons). The `activation` parameter specifies the activation function to use. Here, 'relu' stands for rectified linear unit, a function that allows the model to solve nonlinear problems.\n",
        "\n",
        "1. **Dropout Layer:**\n",
        "```\n",
        "tf.keras.layers.Dropout(0.2),\n",
        "```\n",
        "The `Dropout` layer randomly sets input units to 0 with a frequency of 20% at each step during training, helping to prevent overfitting. This means that 20% of the randomly selected neurons are ignored during training, reducing the risk of overfitting by providing a form of regularization.\n",
        "\n",
        "1. **Output Dense Layer:**\n",
        "```\n",
        "tf.keras.layers.Dense(10)\n",
        "```\n",
        "This final `Dense` layer consists of 10 nodes, each corresponding to one of the digit classes (0 through 9) the model identifies. It outputs logits, which are raw prediction scores indicating the model's confidence for each class. These logits can later be transformed into probabilities, offering a clearer interpretation of the model's predictions."
      ],
      "metadata": {
        "id": "sqTsDfRS-VAD"
      }
    },
    {
      "cell_type": "code",
      "source": [
        "model = tf.keras.models.Sequential([\n",
        "  tf.keras.layers.Flatten(input_shape=(28, 28)),\n",
        "  tf.keras.layers.Dense(128, activation='relu'),\n",
        "  tf.keras.layers.Dropout(0.2),\n",
        "  tf.keras.layers.Dense(10)\n",
        "])"
      ],
      "metadata": {
        "id": "4UH2pK6KDFKM"
      },
      "execution_count": null,
      "outputs": []
    },
    {
      "cell_type": "markdown",
      "source": [
        "## **Exploring Predictions**\n",
        "\n",
        "Bfore compiling and training our model, it would be helpful to better understand how predictions work by exploring one input image. As stated, the model's final layer outputs logits, which are raw scores for each class. To understand these predictions:\n",
        "\n",
        "1. **Make prediction:**\n",
        "```\n",
        "predictions = model(train_images[:1]).numpy()\n",
        "```\n",
        "Initially, we ask the model for its predictions on the first training image. The model returns logits, which are the raw scores from the final Dense layer for each class.\n",
        "\n",
        "1. **Convert logits into probabilities:**\n",
        "```\n",
        "tf.nn.softmax(predictions).numpy()\n",
        "```\n",
        "To convert these logits into probabilities, we apply the softmax function. This step demonstrates how to interpret the final layer's logits as probabilities, showing the model's confidence across the classes.\n",
        "\n",
        "\n"
      ],
      "metadata": {
        "id": "43bUIjzIP_cg"
      }
    },
    {
      "cell_type": "code",
      "source": [
        "predictions = model(train_images[:1]).numpy()\n",
        "predictions"
      ],
      "metadata": {
        "colab": {
          "base_uri": "https://localhost:8080/"
        },
        "id": "QTBOfMsLPbR9",
        "outputId": "09293dc7-139b-4abf-bae3-f0cd58026658"
      },
      "execution_count": null,
      "outputs": [
        {
          "output_type": "execute_result",
          "data": {
            "text/plain": [
              "array([[ 0.8211072 ,  0.462401  , -0.09026444,  1.3257906 , -0.1497691 ,\n",
              "         0.23355341, -0.18482612,  0.41695774,  1.1724658 , -0.03064435]],\n",
              "      dtype=float32)"
            ]
          },
          "metadata": {},
          "execution_count": 7
        }
      ]
    },
    {
      "cell_type": "code",
      "source": [
        "tf.nn.softmax(predictions).numpy()"
      ],
      "metadata": {
        "colab": {
          "base_uri": "https://localhost:8080/"
        },
        "id": "AUSgUpEmVUIj",
        "outputId": "d393e62a-d28c-433e-b2fd-a1ce95113b93"
      },
      "execution_count": null,
      "outputs": [
        {
          "output_type": "execute_result",
          "data": {
            "text/plain": [
              "array([[0.13205922, 0.09225387, 0.05308417, 0.21875095, 0.05001756,\n",
              "        0.07338332, 0.04829447, 0.08815538, 0.18765573, 0.05634531]],\n",
              "      dtype=float32)"
            ]
          },
          "metadata": {},
          "execution_count": 8
        }
      ]
    },
    {
      "cell_type": "markdown",
      "source": [
        "## **Preparing for Training**\n",
        "\n",
        "Before training, we must compile the model. This involves specifying the optimizer, loss function, and metrics to use:\n",
        "\n",
        "1. **Optimizer**: The algorithm that adjusts the model's parameters based on the loss function's feedback to minimize errors during training. In this instace, we used 'Adaptive Moment Estimation' or 'adam' which is efficient with high accuracy.\n",
        "1. **Loss Function**:\n",
        "```\n",
        "loss_fn = tf.keras.losses.SparseCategoricalCrossentropy(from_logits=True)\n",
        "```\n",
        "Meausres how well the model's predictions match the actual labels. `SparseCategoricalCrossentropy` is sufficient for multi-class classification problems like ours\n",
        "1. **Metrics**: Used to monitor the training and testing steps. 'Accuracy' is a common metric for classification, indicating the percentage of correct predictions.\n",
        "\n",
        "1. **Compiling the model**\n",
        "```\n",
        "model.compile(optimizer='adam',\n",
        "              loss=loss_fn,\n",
        "              metrics=['accuracy'])\n",
        "```\n",
        "\n",
        "This is essentially preparing the model with the necessary settings for when training begins."
      ],
      "metadata": {
        "id": "ZEzAqqy-V1Ey"
      }
    },
    {
      "cell_type": "code",
      "source": [
        "# Loss function\n",
        "loss_fn = tf.keras.losses.SparseCategoricalCrossentropy(from_logits=True)\n",
        "\n",
        "# Compile model\n",
        "model.compile(optimizer='adam',\n",
        "              loss=loss_fn,\n",
        "              metrics=['accuracy'])"
      ],
      "metadata": {
        "id": "tfsmqMQVkyMM"
      },
      "execution_count": null,
      "outputs": []
    },
    {
      "cell_type": "markdown",
      "source": [
        "## **Train and Evaluate**\n",
        "\n",
        "After setting up the model, the next steps are training it on the dataset and then evaluating its performance.\n",
        "\n",
        "1. **Training the Model**:\n",
        "```\n",
        "model.fit(train_images, train_labels, epochs=5)\n",
        "```\n",
        "* `model.fit()` starts the training process. The model learns to associate the images (`train_images`) with the correct labels (`train_labels`).\n",
        "* `epochs=5` An epoch is one complete presentation of data set to the model. In this instance, we specify 5 epochs, which means the model will see the entire dataset five times. With each epoch, the model adjusts its weight slightly to reduce the error in its predictions\n",
        "\n",
        "2. **Evaluating the model**\n",
        "```\n",
        "model.evaluate(test_images, test_labels, verbose=2)\n",
        "```\n",
        "* `model.evaluate()`: After training, we evaluate the model's performance using a different dataset that it hasn't seen before (test_images and test_labels). This function tests the model's accuracy and gives us a sense of how well our model can generalize to new data.\n",
        "* `verbose=2`: This parameter controls the detail of the output displayed during evaluation. A value of 2 shows progress bars and a summary of the losses and metrics for each epoch.\n",
        "\n",
        "3. **Making Predictions with the Model**\n",
        "```\n",
        "probability_model = tf.keras.Sequential([\n",
        "  model,\n",
        "  tf.keras.layers.Softmax()\n",
        "])\n",
        "```\n",
        "* To use the model for making predictions, we often want the output to be more interpretable, such as providing probabilities that an image belongs to each of the possible classes. To achieve this, we create a new model that adds a softmax layer on top of our existing model.\n",
        "\n",
        "* `tf.keras.Sequential()`: This command is used to stack the pre-trained model with a new layer.\n",
        "\n",
        "* `model`: Our pre-trained model is added as the base.\n",
        "\n",
        "* `tf.keras.layers.Softmax()`: A softmax layer is added on top. This layer converts the logits, or raw prediction scores, from our model into probabilities by applying the softmax function. Each score is transformed into a probability value, indicating the likelihood of the input belonging to one of the classes.\n",
        "\n"
      ],
      "metadata": {
        "id": "EC0KUP86lbe2"
      }
    },
    {
      "cell_type": "code",
      "source": [
        "# Train model\n",
        "model.fit(train_images, train_labels, epochs=5)\n",
        "\n",
        "# Evaluating the model\n",
        "model.evaluate(test_images, test_labels, verbose=2)\n",
        "\n",
        "# Making predictions with the model\n",
        "probability_model = tf.keras.Sequential([\n",
        "  model,\n",
        "  tf.keras.layers.Softmax()\n",
        "])\n"
      ],
      "metadata": {
        "id": "EawVvLY4k4O0",
        "colab": {
          "base_uri": "https://localhost:8080/"
        },
        "outputId": "f8b93805-77ab-433a-d644-4d6f631d686a"
      },
      "execution_count": null,
      "outputs": [
        {
          "output_type": "stream",
          "name": "stdout",
          "text": [
            "Epoch 1/5\n",
            "1875/1875 [==============================] - 5s 2ms/step - loss: 0.3058 - accuracy: 0.9112\n",
            "Epoch 2/5\n",
            "1875/1875 [==============================] - 4s 2ms/step - loss: 0.1469 - accuracy: 0.9557\n",
            "Epoch 3/5\n",
            "1875/1875 [==============================] - 3s 2ms/step - loss: 0.1102 - accuracy: 0.9668\n",
            "Epoch 4/5\n",
            "1875/1875 [==============================] - 4s 2ms/step - loss: 0.0912 - accuracy: 0.9722\n",
            "Epoch 5/5\n",
            "1875/1875 [==============================] - 4s 2ms/step - loss: 0.0763 - accuracy: 0.9765\n",
            "313/313 - 1s - loss: 0.0741 - accuracy: 0.9769 - 612ms/epoch - 2ms/step\n"
          ]
        }
      ]
    },
    {
      "cell_type": "markdown",
      "source": [
        "## Visualizing Predictions\n",
        "\n",
        "To further understand how our model performs, let's visualize its predictions on an image. We'll display an image from the test set, use our `probability_model` to predict the probabilities for each class, and then highlight the class with the highest probability along with its label."
      ],
      "metadata": {
        "id": "cNJCe_rI9xkY"
      }
    },
    {
      "cell_type": "code",
      "source": [
        "import numpy as np\n",
        "\n",
        "# Selecting a sample image from the test set\n",
        "sample_image = test_images[0]\n",
        "sample_label = test_labels[0]\n",
        "\n",
        "# Predicting the class probabilities for the selected image\n",
        "predictions = probability_model.predict(test_images[:1])\n",
        "\n",
        "# Visualizing the selected image\n",
        "plt.figure(figsize=(2, 2))\n",
        "plt.imshow(sample_image, cmap=plt.cm.binary)\n",
        "plt.title(f\"Actual Label: {sample_label}\")\n",
        "plt.show()\n",
        "\n",
        "# Displaying the predicted probabilities for all classes\n",
        "print(\"Predicted probabilities:\")\n",
        "print(predictions)\n",
        "\n",
        "# Finding the class with the highest probability\n",
        "predicted_label = np.argmax(predictions[0])\n",
        "probability = np.max(predictions[0])\n",
        "\n",
        "print(f\"Predicted Label: {predicted_label} with a probability of {probability:.2f}\")\n"
      ],
      "metadata": {
        "colab": {
          "base_uri": "https://localhost:8080/",
          "height": 326
        },
        "id": "72qO8kDD8vQD",
        "outputId": "a1ca2a49-2c4e-46e0-eefe-8807fc00cbf0"
      },
      "execution_count": null,
      "outputs": [
        {
          "output_type": "stream",
          "name": "stdout",
          "text": [
            "1/1 [==============================] - 0s 55ms/step\n"
          ]
        },
        {
          "output_type": "display_data",
          "data": {
            "text/plain": [
              "<Figure size 200x200 with 1 Axes>"
            ],
            "image/png": "[encoded data removed]"
          },
          "metadata": {}
        },
        {
          "output_type": "stream",
          "name": "stdout",
          "text": [
            "Predicted probabilities:\n",
            "[[4.6812190e-08 2.7573621e-09 4.2093925e-06 5.6728040e-04 2.8949121e-11\n",
            "  1.6476713e-07 2.7183915e-12 9.9942672e-01 4.5148173e-08 1.5781640e-06]]\n",
            "Predicted Label: 7 with a probability of 1.00\n"
          ]
        }
      ]
    }
  ]
}